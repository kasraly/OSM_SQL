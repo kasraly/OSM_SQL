{
 "cells": [
  {
   "cell_type": "markdown",
   "metadata": {},
   "source": [
    "# OpenStreetMap Data Case Study\n",
    "## Map Area\n",
    "I have chosen the city of Edmonton, Alberta, Canada. I have recently moved to Edmonton and believe this project will help me to know the city better.\n",
    "\n",
    "The city area in openstreetmap.org: https://www.openstreetmap.org/relation/2564500  \n",
    "Downloaded the OSM XML file from: https://mapzen.com/data/metro-extracts/metro/edmonton_canada/\n",
    "\n",
    "## Problems encountered in the map\n",
    "### Street names\n",
    "After initial audit of the street names two main inconsistencies were encountered:\n",
    "- Abbreviated street types: `St` versus `Street`\n",
    "- Multiple spaces between words: `207 Street   North-west` having 3 spaces between `Street` and `North-west`\n",
    "\n",
    "### House number\n",
    "The audit on housenumber revealed that:\n",
    "- The house number is often part of the street name: `26323 Township Road 532A` where `26323` is the house number. This mostly happens for rural areas\n",
    "\n",
    "### Postal code\n",
    "The postal code in Canada is in the form of `A1A 1A1` and usally written in capitals letters.  \n",
    "Often in the data base the postal codes are written in lower letters or the two parts are attached. \n",
    "\n",
    "### City, Province, Country\n",
    "For `way` tags often city, province, and country infromation was combined in `is_in` tag.\n",
    "\n",
    "## Fixing the issues\n",
    "When auditing and fixing the street names the following rules where followed. \n",
    "-\tIf the last word is a direction word (east, north, etc.) the second last word will also be audited \n",
    "-\tIf the last word is a number (e.g. `Township Road 532A`) the second last word will be audited\n",
    "-\tIf the last word is a number, and the first word is also a number, then the first word would be considered as the house number\n",
    "-\tThe spacing between words will be reduced to 1 space\n",
    "\n",
    "The postal code was updated to match the standard. i.e. used capital letters and one space between the first three and second three characters. \n",
    "\n",
    "The province and country names, when present, were replaced with Alberta and Canada, respectively. If the information was in `is_in` tag, it was changed to appropriate city, province and country tags. "
   ]
  },
  {
   "cell_type": "markdown",
   "metadata": {
    "collapsed": true
   },
   "source": [
    "I used `.split()` to find individual words and check them one by one. I also used regular expressions to check the road number such as `532A`\n",
    "\n",
    "I updated the `update_name` function in audit.py to the follwoing code:\n",
    "\n"
   ]
  },
  {
   "cell_type": "code",
   "execution_count": null,
   "metadata": {
    "collapsed": true
   },
   "outputs": [],
   "source": [
    "expected_position = [\"North-west\", \"South-west\", \"North-east\", \"South-east\", \"North\", \"South\", \"East\", \"West\"]\n",
    "road_num_re = re.compile(r'[0-9]+[a-zA-Z]?\\.?$') # combination of numbers with zero or one letter at the end\n",
    "house_num_re = re.compile(r'[0-9]+[a-zA-Z]?$') # combination of numbers with zero or one letter at the end \n",
    "\n",
    "def update_name(name):\n",
    "\n",
    "    # YOUR CODE HERE\n",
    "    house_num = None\n",
    "    street_type = None\n",
    "    m = name.split()\n",
    "    if road_num_re.search(m[-1]) and len(m) >= 2: # if last word is road number and more than two words\n",
    "        street_type = m[-2] #check the second last word \n",
    "        if street_type in expected_type:\n",
    "            if house_num_re.search(m[0]): # if the first word is house number \n",
    "                house_num = m[0]\n",
    "                m = m[1:] # remove the house number from street name\n",
    "        else:\n",
    "            if street_type in mapping_type: # if street type can be improved \n",
    "                m[-2] = mapping_type[street_type] #update the second last word\n",
    "    elif m[-1] in expected_position or m[-1] in mapping_position: #if last word is position or from postion mapping dictionary\n",
    "        if m[-1] in mapping_position: \n",
    "            m[-1] = mapping_position[m[-1]]\n",
    "        street_type = m[-2] #check the second last word\n",
    "        if street_type in mapping_type:\n",
    "            m[-2] = mapping_type[street_type] #update the second last word\n",
    "    else: # otherwise last word is street type\n",
    "        street_type = m[-1]\n",
    "        if street_type in mapping_type:\n",
    "            m[-1] = mapping_type[street_type]\n",
    "    \n",
    "    return ' '.join(m), street_type, house_num"
   ]
  },
  {
   "cell_type": "markdown",
   "metadata": {},
   "source": [
    "the postal code update code is shown below. the code first checks the validity of postal code, and if necessary adds a space between the two parts."
   ]
  },
  {
   "cell_type": "code",
   "execution_count": null,
   "metadata": {
    "collapsed": true
   },
   "outputs": [],
   "source": [
    "postcode_re = re.compile(r'[A-Z][0-9][A-Z]\\s?[0-9][A-Z][0-9]', re.IGNORECASE)\n",
    "def update_postcode(code):\n",
    "    if postcode_re.match(code):\n",
    "        if code[3] == ' ':\n",
    "            return code.upper()\n",
    "        else:\n",
    "            return code[:3].upper() + ' ' + code[3:6].upper()\n",
    "    else:\n",
    "        return code"
   ]
  },
  {
   "cell_type": "markdown",
   "metadata": {},
   "source": [
    "The code below shows the process to parse the `is_in` tag"
   ]
  },
  {
   "cell_type": "code",
   "execution_count": null,
   "metadata": {
    "collapsed": true
   },
   "outputs": [],
   "source": [
    "def parse_isin(name):\n",
    "    address = name.split(',') # the names are separated by ','\n",
    "    if len(address) == 3 and address[2] == 'Canada': # if three parts and last part 'Canada'\n",
    "        return address[0], address[1], address[2]\n",
    "    elif len(address) == 2 and address[1] == 'Alberta': # if two parts and last part 'Alberta'\n",
    "        return address[0], address[1], None\n",
    "    elif len(address) >= 3 and address[1] == ' County of': # if the second part is ' County of',\n",
    "                                                            # this was the case for rural cities \n",
    "        city = address[0].split() # only take the first word of the city. this approach is not very robust, \n",
    "                                # as two word cities will be missed. But worked fine for current dataset.\n",
    "        if len(address) == 3:\n",
    "            return city[0], address[2], None       \n",
    "        elif len(address) == 4:\n",
    "            return city[0], address[2], address[3]\n",
    "    elif len(address) == 1 and address != 'Alberta': # if only one part and not 'Alberta', then it is the city\n",
    "        return address, None, None      \n",
    "    return None, None, None"
   ]
  },
  {
   "cell_type": "markdown",
   "metadata": {},
   "source": [
    "\n",
    "### Outstanding issues\n",
    "Despite making the fixes mentioned above, numerous minor issues remain that are not easy to programatically  fix.\n",
    "The instanses that have this type of issues were usually limited and would be easier to fix manually rather than writing a program for it. In this project I chose to skip fixing these. \n",
    "- `137 Avenue North West`, here the `North` and `West` are separated with a space and cannot be easily fixed using the approach for other issues\n",
    "- `87th Avenue`, where the street number is written as an ordinal number\n",
    "- `87 Avenue and 114 Street`, street address is given as intersection of two streets\n",
    "- `Rue Monette`, which is the French for `Monette Street` \n"
   ]
  },
  {
   "cell_type": "markdown",
   "metadata": {},
   "source": [
    "### Adding data to the CSV files\n",
    "In the function `shape_element` in `data.py` file, when the tag key is `street` the function for updating street name will be called. additinally if the house number if not `None` the house number will be added to the database.  \n",
    "Similarly, the postal code will be updated to the standard form. The province and country will also be set by default to Alberta and Canada. "
   ]
  },
  {
   "cell_type": "code",
   "execution_count": null,
   "metadata": {
    "collapsed": true
   },
   "outputs": [],
   "source": [
    "            if dic['key'] == 'street': #update the name if street name\n",
    "                value, _, house_num = audit.update_name(value)\n",
    "                if house_num != None:\n",
    "                    tags.append({'id': node_attribs['id'], \n",
    "                                 'key': 'housenumber',\n",
    "                                 'type': 'addr',\n",
    "                                 'value': house_num})\n",
    "            elif dic['key'] == 'postcode':\n",
    "                value = audit.update_postcode(value)\n",
    "            elif dic['key'] == 'country':\n",
    "                value = 'Canada'\n",
    "            elif dic['key'] == 'province':\n",
    "                value = 'Alberta'"
   ]
  },
  {
   "cell_type": "markdown",
   "metadata": {},
   "source": [
    "In the `way` tags, when `is_in` tag is encountered, its information will be parsed and put into appropriate separate tags. This would significantly help with making queries later. "
   ]
  },
  {
   "cell_type": "code",
   "execution_count": null,
   "metadata": {
    "collapsed": true
   },
   "outputs": [],
   "source": [
    "            elif key == 'is_in':\n",
    "                city, province, country = audit.parse_isin(value)\n",
    "                if city != None:\n",
    "                    tags.append({'id': way_attribs['id'], \n",
    "                                 'key': 'city',\n",
    "                                 'type': 'is_in',\n",
    "                                 'value': city})\n",
    "                if province != None:\n",
    "                    tags.append({'id': way_attribs['id'], \n",
    "                                 'key': 'province',\n",
    "                                 'type': 'is_in',\n",
    "                                 'value': province})\n",
    "                if country != None:\n",
    "                    tags.append({'id': way_attribs['id'], \n",
    "                                 'key': 'country',\n",
    "                                 'type': 'is_in',\n",
    "                                 'value': country})\n",
    "                break"
   ]
  },
  {
   "cell_type": "markdown",
   "metadata": {},
   "source": [
    "## Importing the processed data into sqlite\n",
    "Running the data.py code generates 5 .csv files. The header of the CSV files were removed, as they would cause issues when being imprted. 5 tables were created according to the schemas and each files was imported to the associated table. the resulting files and their size is:\n",
    "\n",
    "File | size\n",
    "--- | ---\n",
    "edmonton_canada.osm | 788,945 KB\n",
    "OSM_Edmonton.db | 443,644 KB\n",
    "nodes.csv | 314,580 KB\n",
    "nodes_tags.csv | 21,580 KB\n",
    "wayz.csv | 28,285 KB\n",
    "ways_nodes.csv | 103,120 KB\n",
    "ways_tags.csv | 25,721 KB"
   ]
  },
  {
   "cell_type": "markdown",
   "metadata": {},
   "source": [
    "## Some statistics about dateset\n",
    "### Total number of Nodes:\n",
    "```SQL\n",
    "sqlite> SELECT COUNT(*) AS TotalNodes FROM Nodes;\n",
    "TotalNodes\n",
    "----------\n",
    "3718499 \n",
    "```"
   ]
  },
  {
   "cell_type": "markdown",
   "metadata": {},
   "source": [
    "### Total number of Ways:\n",
    "```SQL\n",
    "sqlite> SELECT COUNT(*) as TotalWays FROM Ways;\n",
    "TotalWays\n",
    "----------\n",
    "469009\n",
    "```"
   ]
  },
  {
   "cell_type": "markdown",
   "metadata": {},
   "source": [
    "### Number of Nodes with tags:\n",
    "```SQL\n",
    "sqlite> SELECT COUNT(DISTINCT(ID)) AS NodesWithTag FROM NodeTags;\n",
    "NodesWithTag\n",
    "------------\n",
    "157647\n",
    "```"
   ]
  },
  {
   "cell_type": "markdown",
   "metadata": {},
   "source": [
    "### Number of unique users:\n",
    "```SQL\n",
    "sqlite> SELECT COUNT(DISTINCT(NodeUniWay.UserID)) as TotalUsers FROM (SELECT UserID FROM Nodes UNION SELECT UserID FROM Ways) as NodeUniWay;\n",
    "TotalUsers\n",
    "----------\n",
    "670\n",
    "```"
   ]
  },
  {
   "cell_type": "markdown",
   "metadata": {},
   "source": [
    "### Number of ways for each city\n",
    "Here only the 10 cities with the most ways are chosen. This partly shows how big is each city. (City names are truncated, otherwise they are correct in the database)\n",
    "```SQL\n",
    "sqlite> SELECT WayTags.Value as City, COUNT(*) as TotalWays\n",
    "   ...> FROM Ways, WayTags\n",
    "   ...> WHERE Ways.ID = WayTags.ID\n",
    "   ...> AND WayTags.Key = 'city'\n",
    "   ...> GROUP BY WayTags.Value\n",
    "   ...> ORDER BY TotalWays DESC\n",
    "   ...> LIMIT 10;\n",
    "City        TotalWays\n",
    "----------  ----------\n",
    "Edmonton    7697\n",
    "Strathcona  3026\n",
    "Leduc Coun  2077\n",
    "Parkland C  1911\n",
    "Sturgeon C  1684\n",
    "Wetaskiwin  1684\n",
    "St. Albert  1588\n",
    "Lac Ste. A  836\n",
    "Spruce Gro  810\n",
    "Barrhead    779\n",
    "```"
   ]
  },
  {
   "cell_type": "markdown",
   "metadata": {},
   "source": [
    "### The issues identified in the database (fixme tag)\n",
    "#### Node tag issues\n",
    "From the around 160,000 nodes that have tags, about 1100 have 'fixme' key. The most common required fix that is identified in the OSM database is the housenumber. This is likely done programmatically. A similar issue was observed through the data audit when checking the street name tags. \n",
    "```SQL\n",
    "sqlite> SELECT Value AS FixmeValue, COUNT(*)\n",
    "   ...> FROM NodeTags\n",
    "   ...> WHERE Key = \"fixme\"\n",
    "   ...> GROUP BY Value\n",
    "   ...> ORDER BY COUNT(*) DESC\n",
    "   ...> LIMIT 5;\n",
    "FixmeValue                  COUNT(*)\n",
    "--------------------------  ----------\n",
    "addr:housenumber to revise  1014\n",
    "Place type may not be vali  94\n",
    "identify extracted resourc  9\n",
    "continue                    5\n",
    "Feature may not be valid    2\n",
    "```"
   ]
  },
  {
   "cell_type": "markdown",
   "metadata": {},
   "source": [
    "#### Way tag issues\n",
    "```SQL\n",
    "sqlite> SELECT Value AS FixmeValue, COUNT(*)\n",
    "   ...> FROM WayTags\n",
    "   ...> WHERE Key = \"fixme\"\n",
    "   ...> GROUP BY Value\n",
    "   ...> ORDER BY COUNT(*) DESC\n",
    "   ...> LIMIT 5;\n",
    "FixmeValue                      COUNT(*)\n",
    "------------------------------  ----------\n",
    "could be dunes or raised_beach  91\n",
    "sport type is not known         16\n",
    "name                            4\n",
    "Clareview station is not reall  2\n",
    "merge streets to this           2\n",
    "```"
   ]
  },
  {
   "cell_type": "markdown",
   "metadata": {},
   "source": [
    "#### The user associated with most nodes that contain fixme tag\n",
    "From the result we can see that most tags with fixme are associated with one user. It is likely that this user is using some form of automated tool to identify the fixme tags.\n",
    "I am not sure if the User associated with a node is tha last person that updated it, or the person who created the node. Therefore, it is not cleat if the Users below tagged the 'fixme' key or created the node that was later tagged for fix. \n",
    "```SQL\n",
    "sqlite> SELECT User, COUNT(*) AS Num\n",
    "   ...> FROM (SELECT User FROM WayTags JOIN Ways\n",
    "   ...> ON WayTags.ID = Ways.ID WHERE Key = \"fixme\"\n",
    "   ...> UNION ALL SELECT User FROM NodeTags JOIN Nodes\n",
    "   ...> ON NodeTags.ID = Nodes.ID WHERE Key = \"fixme\") AS UserUnion\n",
    "   ...> GROUP BY User\n",
    "   ...> ORDER BY Num DESC\n",
    "   ...> LIMIT 10;\n",
    "User        Num\n",
    "----------  ----------\n",
    "PierZen     1011\n",
    "charrois    196\n",
    "Viajero Pe  12\n",
    "MuzikMachi  11\n",
    "Sundance    6\n",
    "Angus C     5\n",
    "mesowhite   3\n",
    "phillipsjk  3\n",
    "yoltia      3\n",
    "Mesowhite   2\n",
    "```"
   ]
  },
  {
   "cell_type": "markdown",
   "metadata": {},
   "source": [
    "## Other ideas about the datasets\n",
    "### Confidence level on validity of data\n",
    "The OSM is user generated, so besides the different representation of same infromation (St vs Street), there is always some inputs that are incorrect.\n",
    "\n",
    "It would be a good idea to include a percentage number showing the accuracy of the information in that 'node' or 'way'. This has two benefits. First, anyone who is developing applications based on the OSM data can decide which information they want to trust and which information they want to skip. Second, people who want to contribute to the database can identify which infroamtion is not accurate and requires review.\n",
    "\n",
    "Ideally, this process would be automated. Similar to the way the Street types were audited, various tags can be audited and based on the number of incostencies found, a confidence number will be given to each node or way.  \n",
    "Of course, this process requires the data be compared to a separate database. In the case of street type, the data base was basically a python list that identifies the valid street types.\n",
    "I belielve it is possible to query the data against google maps database or foursquare database and see how accurate is a specific node or way \n",
    "\n",
    "### Anonymous GPS data collection for automated extraction of map features\n",
    "Another idea to improve and automate the process of improving map features is to collect anonymous data from OSM users, possilibly through free mobile applications that utilize OSM data.  \n",
    "When enough GPS data is avialabe for a street, that data can be used to identify the speed limit, direction of street, school zones and its hours, on-street parking limitations, etc. These information seems to be missing from OSM and would significantly improve its use in mobile navigation.\n"
   ]
  }
 ],
 "metadata": {
  "anaconda-cloud": {},
  "kernelspec": {
   "display_name": "Python [conda env:py27]",
   "language": "python",
   "name": "conda-env-py27-py"
  },
  "language_info": {
   "codemirror_mode": {
    "name": "ipython",
    "version": 2
   },
   "file_extension": ".py",
   "mimetype": "text/x-python",
   "name": "python",
   "nbconvert_exporter": "python",
   "pygments_lexer": "ipython2",
   "version": "2.7.12"
  }
 },
 "nbformat": 4,
 "nbformat_minor": 1
}
